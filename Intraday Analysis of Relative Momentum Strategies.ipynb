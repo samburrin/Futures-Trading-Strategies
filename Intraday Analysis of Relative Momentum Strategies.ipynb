{
 "cells": [
  {
   "cell_type": "code",
   "execution_count": 112,
   "metadata": {},
   "outputs": [],
   "source": [
    "import pandas as pd\n",
    "import numpy as np\n",
    "from datetime import datetime\n",
    "import matplotlib.pyplot as plt\n",
    "from joblib import Parallel, delayed\n",
    "import multiprocessing"
   ]
  },
  {
   "cell_type": "code",
   "execution_count": 113,
   "metadata": {},
   "outputs": [],
   "source": [
    "df_2024 = pd.read_parquet('Futures_2024.parquet', engine='pyarrow')\n",
    "df_2023 = pd.read_parquet('Futures_2023.parquet', engine='pyarrow')"
   ]
  },
  {
   "cell_type": "code",
   "execution_count": 114,
   "metadata": {},
   "outputs": [],
   "source": [
    "df = pd.concat([df_2023, df_2024])\n",
    "df = df[[col for col in df.columns if 'Close' in col]]\n",
    "df.index = pd.to_datetime(df.index)\n",
    "filter1 = df.dropna(axis=1, thresh=138428)\n",
    "filter2 = filter1.loc[:, (df != 0).all(axis=0)]\n",
    "base_df = filter2.resample('D',origin='2023-01-02 09:16:00').first().dropna()"
   ]
  },
  {
   "cell_type": "code",
   "execution_count": 115,
   "metadata": {},
   "outputs": [],
   "source": [
    "df_nifty= pd.read_parquet('Idx_fut.parquet', engine='pyarrow')\n",
    "df_nifty = df_nifty[[col for col in df_nifty if 'NIFTY_Close' in col]]\n",
    "df_nifty.index = pd.to_datetime(df_nifty.index)\n",
    "df_nifty = df_nifty[df_nifty.index > '2023-01-02 09:16:00']\n",
    "nifty_frame = df_nifty.resample('D',origin='2023-01-02 09:16:00').first().dropna()\n",
    "nifty_frame.drop(columns = 'BANKNIFTY_Close', inplace=True)\n",
    "nifty_frame = nifty_frame[nifty_frame.index <'2024-07-02 15:30:00']"
   ]
  },
  {
   "cell_type": "code",
   "execution_count": 116,
   "metadata": {},
   "outputs": [],
   "source": [
    "rel_prices = base_df.div(nifty_frame['NIFTY_Close'], axis=0)"
   ]
  },
  {
   "cell_type": "code",
   "execution_count": 117,
   "metadata": {},
   "outputs": [],
   "source": [
    "nifty_50 = [\"MARUTI_Close\", \"ITC_Close\", \"M&M_Close\", \"TITAN_Close\", \"EICHERMOT_Close\", \"HEROMOTOCO_Close\", \"SBIN_Close\", \"HINDUNILVR_Close\", \"TATAMOTORS_Close\", \"LT_Close\", \"ICICIBANK_Close\", \"BAJAJFINSV_Close\", \"HDFCLIFE_Close\", \"SBILIFE_Close\", \"JSWSTEEL_Close\", \"HINDALCO_Close\", \"ASIANPAINT_Close\", \"ADANIPORTS_Close\", \"HDFCBANK_Close\", \"COALINDIA_Close\", \"TCS_Close\", \"INFY_Close\", \"NTPC_Close\", \"AXISBANK_Close\", \"APOLLOHOSP_Close\", \"TATASTEEL_Close\", \"BHARTIARTL_Close\", \"ADANIENT_Close\", \"INDUSINDBK_Close\", \"TECHM_Close\", \"KOTAKBANK_Close\", \"BAJFINANCE_Close\", \"BPCL_Close\", \"SHRIRAMFIN_Close\", \"RELIANCE_Close\", \"ONGC_Close\"]\n",
    "stock_prices = base_df[nifty_50]\n",
    "relative_prices = rel_prices[nifty_50]\n",
    "full_price_data = filter2[nifty_50]"
   ]
  },
  {
   "cell_type": "code",
   "execution_count": 118,
   "metadata": {},
   "outputs": [],
   "source": [
    "adjusted_index = full_price_data.index - pd.Timedelta(seconds=59)\n",
    "full_price_data.index = adjusted_index"
   ]
  },
  {
   "cell_type": "code",
   "execution_count": 119,
   "metadata": {},
   "outputs": [
    {
     "name": "stderr",
     "output_type": "stream",
     "text": [
      "C:\\Users\\sambu\\AppData\\Local\\Temp\\ipykernel_5044\\984550555.py:11: SettingWithCopyWarning: \n",
      "A value is trying to be set on a copy of a slice from a DataFrame\n",
      "\n",
      "See the caveats in the documentation: https://pandas.pydata.org/pandas-docs/stable/user_guide/indexing.html#returning-a-view-versus-a-copy\n",
      "  filtered_multiplier_df.drop(columns = 'segment', inplace=True)\n"
     ]
    }
   ],
   "source": [
    "multiplier = pd.read_csv('instrument_list.csv')\n",
    "multiplier = multiplier.drop(columns=[col for col in multiplier.columns if col not in ['name', 'segment', 'lot_size']])\n",
    "multiplier_nfo = multiplier[multiplier['segment'] == 'NFO-FUT']\n",
    "filtered_df = multiplier_nfo.drop_duplicates(subset='name', keep='first')\n",
    "valid_stocks = filtered_df['name'].unique()\n",
    "valid_stock_columns = [f\"{stock}_Close\" for stock in valid_stocks]\n",
    "columns_to_keep = [col for col in valid_stock_columns if col in stock_prices.columns]\n",
    "filtered_price_df = stock_prices[columns_to_keep]\n",
    "filtered_stock_names = [col.split('_')[0] for col in filtered_price_df.columns]\n",
    "filtered_multiplier_df = filtered_df[filtered_df['name'].isin(filtered_stock_names)]\n",
    "filtered_multiplier_df.drop(columns = 'segment', inplace=True)\n",
    "filtered_multiplier_df.set_index('name', inplace=True)\n",
    "filtered_multiplier_df.columns = ['mult']\n",
    "mult_list = filtered_multiplier_df\n",
    "mult_list.index = mult_list.index + '_Close'"
   ]
  },
  {
   "cell_type": "code",
   "execution_count": 120,
   "metadata": {},
   "outputs": [],
   "source": [
    "class PortfolioMomentumStrategy:\n",
    "    def __init__(self, stock_prices, relative_prices, full_price_data, mult, lookback_period, num_stocks, max_positions, initial_capital=200000000):\n",
    "        self.stock_prices = stock_prices\n",
    "        self.relative_prices = relative_prices\n",
    "        self.full_price_data = full_price_data\n",
    "        self.mult = mult\n",
    "        self.max_positions = max_positions\n",
    "        self.lookback_period = lookback_period\n",
    "        self.num_stocks = int(min(max_positions // 2, num_stocks))\n",
    "        self.available_capital = initial_capital\n",
    "        self.current_positions = {stock: 0 for stock in stock_prices.columns}\n",
    "        self.pnl_series = pd.Series(index = stock_prices.index)\n",
    "        self.trade_log = []\n",
    "        self.exit_log = []\n",
    "        self.transaction_costs_rate = 0.0011\n",
    "        self.position_matrix = pd.DataFrame(index=stock_prices.index, columns=stock_prices.columns)\n",
    "        #self.position_df = pd.DataFrame(index = full_price_data, columns = stock_prices.columns)\n",
    "        \n",
    "\n",
    "    def calculate_momentum(self, data, current_time):\n",
    "        lookback_time = current_time - pd.Timedelta(days=self.lookback_period)\n",
    "        if lookback_time in data.index:\n",
    "            return (data.loc[current_time]/ data.loc[lookback_time] - 1)  # Returns the momentum between now and that time\n",
    "        else:\n",
    "            return pd.Series(np.nan, index=data.columns) #In cases of large lookback period\n",
    "    \n",
    "    def rank_stocks(self, current_time):\n",
    "        momentum_scores = self.calculate_momentum(self.relative_prices, current_time)\n",
    "        ranked_stocks = momentum_scores.sort_values(ascending = False) #Ranks stocks top to bottom of momentum in the time period\n",
    "        return ranked_stocks\n",
    "    \n",
    "    def allocate_positions(self, ranked_stocks, current_prices):\n",
    "        top_stocks = ranked_stocks.head(self.num_stocks)\n",
    "        bottom_stocks = ranked_stocks.tail(self.num_stocks)\n",
    "\n",
    "\n",
    "        long_value = self.available_capital / 2\n",
    "        short_value = self.available_capital / 2 #Assign half capital to long, half to short\n",
    "\n",
    "        max_exp_per_stock = 10000000\n",
    "\n",
    "        long_positions = {}  #To track which stocks we go long and short on and the position size\n",
    "        short_positions = {}\n",
    "\n",
    "        #So we don't repeatedly buy/sell if a stock remains in the top/bottom n stocks\n",
    "        top_stocks = [stock for stock in top_stocks.index if self.current_positions[stock] == 0]\n",
    "        bottom_stocks = [stock for stock in bottom_stocks.index if self.current_positions[stock] == 0]\n",
    "\n",
    "        #Tracks total positions, i.e number of stocks in our portfolio\n",
    "        total_positions = sum(1 for pos in self.current_positions.values() if pos != 0)\n",
    "\n",
    "        #Go long with the top n\n",
    "        for stock in top_stocks:\n",
    "            if total_positions < self.max_positions:  #Only if we don't go over max_positions stocks\n",
    "                \n",
    "                #Position size will be the minimum of the exposure per stock/ (total price of contract) and available capital / (total price of contract)\n",
    "                \n",
    "                position_size = int(min(max_exp_per_stock / (current_prices[stock] * self.mult.loc[stock].values), long_value / (current_prices[stock] * self.mult.loc[stock].values)))\n",
    "                position_cost = position_size * current_prices[stock] * self.mult.loc[stock].values\n",
    "                \n",
    "                #Only carry out trade if we have enough capital\n",
    "                \n",
    "                if position_cost <= long_value:\n",
    "                    long_positions[stock] = position_size\n",
    "                    long_value -= position_cost\n",
    "                    self.trade_log.append({'date': current_prices.name, 'stock': stock, 'position': 'long', 'size': position_size, 'cost': position_cost[0], 'trading price' : current_prices[stock], 'trade_type' : 'entry', 'multiplier': self.mult.loc[stock].values[0]})\n",
    "                    total_positions += 1\n",
    "\n",
    "        #Same process, but for short.\n",
    "        for stock in bottom_stocks:\n",
    "            if total_positions < self.max_positions:\n",
    "                position_size = int(min(max_exp_per_stock / (current_prices[stock] * self.mult.loc[stock].values), short_value / (current_prices[stock] * self.mult.loc[stock].values)))\n",
    "                position_cost = position_size * current_prices[stock] * self.mult.loc[stock].values\n",
    "                if position_cost <= short_value:\n",
    "                    short_positions[stock] = position_size\n",
    "                    short_value -= position_cost\n",
    "                    self.trade_log.append({'date': current_prices.name, 'stock': stock, 'position': 'short', 'size': position_size, 'cost': position_cost[0], 'trading price': current_prices[stock], 'trade_type' : 'entry', 'multiplier': self.mult.loc[stock].values[0]})\n",
    "                    total_positions += 1\n",
    "\n",
    "        return long_positions, short_positions  \n",
    "\n",
    "\n",
    "    def update_positions(self, long_positions, short_positions, previous_prices, current_prices):\n",
    "\n",
    "        liquidated_pnl = 0\n",
    "        total_positions = sum(1 for pos in self.current_positions.values() if pos != 0)\n",
    "\n",
    "        #If stocks move out of the top and bottom n, the position is closed and we calculate the pnl of the close\n",
    "\n",
    "        for stock in self.current_positions:\n",
    "            if stock not in long_positions and stock not in short_positions:\n",
    "                if self.current_positions[stock] != 0:\n",
    "                    liquidated_pnl = self.current_positions[stock] * (current_prices[stock]) * self.mult.loc[stock].values\n",
    "                    total_positions -= 1\n",
    "                    self.exit_log.append({'date': current_prices.name, 'stock': stock, 'position': ' Closing long' if self.current_positions[stock] > 0 else ' Closing short',\n",
    "                                        'size': abs(self.current_positions[stock]),\n",
    "                                        'cost': abs(self.current_positions[stock]) * previous_prices[stock] * self.mult.loc[stock].values[0],\n",
    "                                        'trading price': current_prices[stock],\n",
    "                                        'trade_type': 'exit', 'multiplier': self.mult.loc[stock].values[0]})\n",
    "                    self.current_positions[stock] = 0\n",
    "\n",
    "        #Current_positions tracks the stocks in our portfolio and the position size\n",
    "        \n",
    "        for stock, position in long_positions.items():\n",
    "            self.current_positions[stock] = position\n",
    "\n",
    "        for stock, position in short_positions.items():\n",
    "            self.current_positions[stock] = -position\n",
    "\n",
    "        return liquidated_pnl\n",
    "    \n",
    "    def update_position_matrix(self, current_time):\n",
    "        current_prices = self.stock_prices.loc[current_time]\n",
    "        for stock, position in self.current_positions.items():\n",
    "            self.position_matrix.at[current_time, stock] = position\n",
    "  \n",
    "    #Simple function to track pnl\n",
    "\n",
    "    def calculate_pnl(self, long_positions, short_positions, previous_prices, current_prices):\n",
    "        pnl = 0\n",
    "\n",
    "        for stock, position in self.current_positions.items():\n",
    "            price_change = current_prices[stock] - previous_prices[stock]\n",
    "            pnl += position * price_change * self.mult.loc[stock].values + self.update_positions(long_positions, short_positions, previous_prices, current_prices)\n",
    "        return pnl\n",
    "    \n",
    "    # def calculate_minutely_pnl(self, current_time):\n",
    "    #     pnl = 0\n",
    "    #     for stock, position in self.current_positions.items():\n",
    "    #         price_change = self.full_price_data.loc[current_time] - self.full_price_data.shift(1).loc[current_time]\n",
    "    #         pnl += position * price_change * self.mult.loc[stock].values\n",
    "    #     return pnl\n",
    "    \n",
    "    \n",
    "    def calculate_transaction_costs(self, trades):\n",
    "        total_transaction_costs = 0\n",
    "        for trade in trades:\n",
    "            turnover = trade['size'] * trade['trading price']\n",
    "            total_transaction_costs += turnover * self.transaction_costs_rate\n",
    "        return total_transaction_costs\n",
    "\n",
    "    def trade(self):\n",
    "\n",
    "        #Indexing to be able to select correct prices\n",
    "\n",
    "        unique_dates=self.stock_prices.index\n",
    "        unique_dates=unique_dates[self.lookback_period:]\n",
    "        # start_timestamp = unique_dates[0]\n",
    "\n",
    "        #unique_minute_dates = self.full_price_data.loc[start_timestamp:].index\n",
    "        \n",
    "        next_unique_dates=self.stock_prices.index\n",
    "        next_unique_dates=next_unique_dates[self.lookback_period-1:]\n",
    "\n",
    "        #For every day, apply the strategy\n",
    "        for current_time,prev_time in zip(unique_dates,next_unique_dates):\n",
    "            previous_prices = self.stock_prices.loc[prev_time]\n",
    "            current_prices = self.stock_prices.loc[current_time]\n",
    "            ranked_stocks = self.rank_stocks(current_time)\n",
    "            long_positions, short_positions = self.allocate_positions(ranked_stocks, current_prices)\n",
    "            self.update_positions(long_positions, short_positions, previous_prices, current_prices)\n",
    "            pnl_raw = self.calculate_pnl(long_positions, short_positions, previous_prices, current_prices) \n",
    "            liquidated_pnl = self.update_positions(long_positions, short_positions, previous_prices, current_prices)\n",
    "            pnl = pnl_raw + liquidated_pnl\n",
    "            self.update_position_matrix(current_time)\n",
    "\n",
    "            day_trades = [trade for trade in self.trade_log if trade['date'] == current_time]\n",
    "            if day_trades:  \n",
    "                transaction_costs = self.calculate_transaction_costs(day_trades)\n",
    "                pnl -= transaction_costs\n",
    "            \n",
    "            self.pnl_series[current_time] = pnl \n",
    "\n",
    "            self.available_capital += pnl\n",
    "\n",
    "        return pd.Series(self.pnl_series, index=self.stock_prices.index[self.lookback_period:]).cumsum(), self.position_matrix\n",
    "    \n",
    "    \n",
    "\n",
    "\n",
    "    # def calculate_minutely_pnl(self):\n",
    "    #     minutely_pnl_series = pd.Series(index=self.full_price_data.index, dtype=float)\n",
    "    #     previous_prices = self.full_price_data.shift(1)\n",
    "\n",
    "    #     pnl_changes = self.full_price_data.sub(previous_prices).mul(pd.Series(self.current_positions) * self.mult.values.flatten(), axis=1).sum(axis=1)\n",
    "    #     minutely_pnl_series.iloc[:] = pnl_changes.values\n",
    "\n",
    "\n",
    "    #     minutely_pnl_series = minutely_pnl_series.cumsum()\n",
    "    #     return minutely_pnl_series\n",
    "    \n",
    "\n"
   ]
  },
  {
   "cell_type": "code",
   "execution_count": 121,
   "metadata": {},
   "outputs": [
    {
     "name": "stderr",
     "output_type": "stream",
     "text": [
      "C:\\Users\\sambu\\AppData\\Local\\Temp\\ipykernel_5044\\1367176806.py:58: DeprecationWarning: Conversion of an array with ndim > 0 to a scalar is deprecated, and will error in future. Ensure you extract a single element from your array before performing this operation. (Deprecated NumPy 1.25.)\n",
      "  position_size = int(min(max_exp_per_stock / (current_prices[stock] * self.mult.loc[stock].values), long_value / (current_prices[stock] * self.mult.loc[stock].values)))\n",
      "C:\\Users\\sambu\\AppData\\Local\\Temp\\ipykernel_5044\\1367176806.py:72: DeprecationWarning: Conversion of an array with ndim > 0 to a scalar is deprecated, and will error in future. Ensure you extract a single element from your array before performing this operation. (Deprecated NumPy 1.25.)\n",
      "  position_size = int(min(max_exp_per_stock / (current_prices[stock] * self.mult.loc[stock].values), short_value / (current_prices[stock] * self.mult.loc[stock].values)))\n"
     ]
    }
   ],
   "source": [
    "strategy = PortfolioMomentumStrategy(stock_prices, relative_prices, full_price_data, mult_list, 10, 5, 20)\n",
    "pnl_series, position_matrix = strategy.trade()"
   ]
  },
  {
   "cell_type": "code",
   "execution_count": 122,
   "metadata": {},
   "outputs": [
    {
     "data": {
      "text/plain": [
       "DateTime\n",
       "2023-01-12 09:16:00    3.102763e+05\n",
       "2023-01-13 09:16:00    7.115695e+05\n",
       "2023-01-15 09:16:00    8.597625e+05\n",
       "2023-01-16 09:16:00    8.848559e+05\n",
       "2023-01-17 09:16:00    7.091648e+05\n",
       "                           ...     \n",
       "2024-06-27 09:16:00    1.637721e+08\n",
       "2024-06-28 09:16:00    1.634449e+08\n",
       "2024-06-30 09:16:00    1.636499e+08\n",
       "2024-07-01 09:16:00    1.636716e+08\n",
       "2024-07-02 09:16:00    1.635337e+08\n",
       "Length: 449, dtype: float64"
      ]
     },
     "execution_count": 122,
     "metadata": {},
     "output_type": "execute_result"
    }
   ],
   "source": [
    "pnl_series"
   ]
  },
  {
   "cell_type": "code",
   "execution_count": 123,
   "metadata": {},
   "outputs": [],
   "source": [
    "position_matrix.dropna(inplace=True)"
   ]
  },
  {
   "cell_type": "code",
   "execution_count": 124,
   "metadata": {},
   "outputs": [],
   "source": [
    "full_price_data = full_price_data[full_price_data.index >= '2023-01-16 09:14:00']"
   ]
  },
  {
   "cell_type": "markdown",
   "metadata": {},
   "source": [
    "##### Calculate minutely price change"
   ]
  },
  {
   "cell_type": "code",
   "execution_count": 125,
   "metadata": {},
   "outputs": [],
   "source": [
    "price_change = full_price_data.diff()"
   ]
  },
  {
   "cell_type": "code",
   "execution_count": 126,
   "metadata": {},
   "outputs": [],
   "source": [
    "#position_matrix"
   ]
  },
  {
   "cell_type": "code",
   "execution_count": 127,
   "metadata": {},
   "outputs": [],
   "source": [
    "stock_prices_daily = stock_prices[stock_prices.index >= '2023-01-16 09:15:00']"
   ]
  },
  {
   "cell_type": "code",
   "execution_count": 128,
   "metadata": {},
   "outputs": [],
   "source": [
    "stock_prices_daily.to_csv('daily_stock_prices.csv')"
   ]
  },
  {
   "cell_type": "code",
   "execution_count": 129,
   "metadata": {},
   "outputs": [],
   "source": [
    "position_matrix.to_csv('daily_position_matrix.csv')"
   ]
  },
  {
   "cell_type": "code",
   "execution_count": 130,
   "metadata": {},
   "outputs": [],
   "source": [
    "minutely_position_matrix = pd.DataFrame(index = full_price_data.index, columns = position_matrix.columns)"
   ]
  },
  {
   "cell_type": "code",
   "execution_count": 131,
   "metadata": {},
   "outputs": [
    {
     "name": "stderr",
     "output_type": "stream",
     "text": [
      "C:\\Users\\sambu\\AppData\\Local\\Temp\\ipykernel_5044\\1435253019.py:2: FutureWarning: Series.fillna with 'method' is deprecated and will raise in a future version. Use obj.ffill() or obj.bfill() instead.\n",
      "  minutely_position_matrix[column] = minutely_position_matrix[column].fillna(method='ffill')\n",
      "C:\\Users\\sambu\\AppData\\Local\\Temp\\ipykernel_5044\\1435253019.py:2: FutureWarning: Downcasting object dtype arrays on .fillna, .ffill, .bfill is deprecated and will change in a future version. Call result.infer_objects(copy=False) instead. To opt-in to the future behavior, set `pd.set_option('future.no_silent_downcasting', True)`\n",
      "  minutely_position_matrix[column] = minutely_position_matrix[column].fillna(method='ffill')\n"
     ]
    }
   ],
   "source": [
    "for column in position_matrix.columns:\n",
    "    minutely_position_matrix[column] = minutely_position_matrix[column].fillna(method='ffill')\n",
    "\n",
    "minutely_position_matrix.update(position_matrix.reindex(minutely_position_matrix.index, method='ffill'))"
   ]
  },
  {
   "cell_type": "code",
   "execution_count": 132,
   "metadata": {},
   "outputs": [],
   "source": [
    "full_price_data.to_csv('full_price_data.csv')"
   ]
  },
  {
   "cell_type": "code",
   "execution_count": 133,
   "metadata": {},
   "outputs": [],
   "source": [
    "mult_list.to_csv('mult_list.csv')"
   ]
  },
  {
   "cell_type": "code",
   "execution_count": 134,
   "metadata": {},
   "outputs": [],
   "source": [
    "minutely_position_matrix.to_csv('minutely_position_matrix.csv')\n"
   ]
  },
  {
   "cell_type": "code",
   "execution_count": 135,
   "metadata": {},
   "outputs": [],
   "source": [
    "minutely_price_position = minutely_position_matrix.mul(price_change)"
   ]
  },
  {
   "cell_type": "code",
   "execution_count": 136,
   "metadata": {},
   "outputs": [],
   "source": [
    "minutely_price_position.dropna(inplace=True)"
   ]
  },
  {
   "cell_type": "code",
   "execution_count": 137,
   "metadata": {},
   "outputs": [],
   "source": [
    "mult_df = mult_list.T\n",
    "mult_df = mult_df.reindex(columns=minutely_price_position.columns)\n",
    "\n",
    "minutely_stock_pnl = minutely_price_position * mult_df.values\n"
   ]
  },
  {
   "cell_type": "code",
   "execution_count": 138,
   "metadata": {},
   "outputs": [],
   "source": [
    "#minutely_stock_pnl"
   ]
  },
  {
   "cell_type": "code",
   "execution_count": 139,
   "metadata": {},
   "outputs": [],
   "source": [
    "minutely_pnl = minutely_stock_pnl.sum(axis=1)"
   ]
  },
  {
   "cell_type": "code",
   "execution_count": 140,
   "metadata": {},
   "outputs": [],
   "source": [
    "minutely_pnl.to_csv('minutely_pnl.csv')"
   ]
  },
  {
   "cell_type": "code",
   "execution_count": 141,
   "metadata": {},
   "outputs": [],
   "source": [
    "initial_cap = 200000000"
   ]
  },
  {
   "cell_type": "code",
   "execution_count": 142,
   "metadata": {},
   "outputs": [],
   "source": [
    "cumulative_minutely_pnl = minutely_pnl.cumsum()"
   ]
  },
  {
   "cell_type": "code",
   "execution_count": 143,
   "metadata": {},
   "outputs": [],
   "source": [
    "rel_cumulative_minutely_pnl = cumulative_minutely_pnl / initial_cap"
   ]
  },
  {
   "cell_type": "code",
   "execution_count": 144,
   "metadata": {},
   "outputs": [],
   "source": [
    "rel_cumulative_minutely_pnl.to_csv('minute_pnl_script1.csv')"
   ]
  },
  {
   "cell_type": "code",
   "execution_count": null,
   "metadata": {},
   "outputs": [],
   "source": []
  },
  {
   "cell_type": "code",
   "execution_count": 145,
   "metadata": {},
   "outputs": [],
   "source": [
    "# initial_cap = 200000000\n",
    "# relative_series = pnl_series/initial_cap\n",
    "# relative_series"
   ]
  },
  {
   "cell_type": "code",
   "execution_count": 146,
   "metadata": {},
   "outputs": [],
   "source": [
    "trade_log_df = pd.DataFrame(strategy.trade_log)\n",
    "exit_log_df = pd.DataFrame(strategy.exit_log)\n",
    "full_trade_log = pd.concat([trade_log_df, exit_log_df], ignore_index=True)\n",
    "\n",
    "full_trade_log.sort_values(by=['date', 'trade_type'], ascending=[True, False], inplace=True)\n",
    "\n",
    "\n",
    "full_trade_log.reset_index(drop=True, inplace=True)"
   ]
  },
  {
   "cell_type": "code",
   "execution_count": 147,
   "metadata": {},
   "outputs": [],
   "source": [
    "#full_trade_log"
   ]
  },
  {
   "cell_type": "code",
   "execution_count": 148,
   "metadata": {},
   "outputs": [
    {
     "name": "stdout",
     "output_type": "stream",
     "text": [
      "Annual Mean Return: 25.036663984495185 Annual_Risk: 8.801100999993496 Sharpe: 2.8447195395796148\n"
     ]
    }
   ],
   "source": [
    "initial_cap = 200000000\n",
    "pct = 100\n",
    "daily_ret = pct* (cumulative_minutely_pnl.diff() / initial_cap)\n",
    "annual_mean_returns = daily_ret.mean()*252*1440\n",
    "annial_mean_std = daily_ret.std()*np.sqrt(252*1440)\n",
    "s_r = annual_mean_returns/ annial_mean_std\n",
    "print('Annual Mean Return:', annual_mean_returns,\n",
    "       'Annual_Risk:', annial_mean_std,\n",
    "        'Sharpe:', s_r)"
   ]
  },
  {
   "cell_type": "code",
   "execution_count": null,
   "metadata": {},
   "outputs": [],
   "source": []
  },
  {
   "cell_type": "code",
   "execution_count": null,
   "metadata": {},
   "outputs": [],
   "source": []
  },
  {
   "cell_type": "code",
   "execution_count": null,
   "metadata": {},
   "outputs": [],
   "source": []
  },
  {
   "cell_type": "code",
   "execution_count": null,
   "metadata": {},
   "outputs": [],
   "source": []
  },
  {
   "cell_type": "code",
   "execution_count": null,
   "metadata": {},
   "outputs": [],
   "source": []
  },
  {
   "cell_type": "code",
   "execution_count": null,
   "metadata": {},
   "outputs": [],
   "source": []
  },
  {
   "cell_type": "code",
   "execution_count": null,
   "metadata": {},
   "outputs": [],
   "source": []
  },
  {
   "cell_type": "code",
   "execution_count": null,
   "metadata": {},
   "outputs": [],
   "source": []
  }
 ],
 "metadata": {
  "kernelspec": {
   "display_name": "Python 3",
   "language": "python",
   "name": "python3"
  },
  "language_info": {
   "codemirror_mode": {
    "name": "ipython",
    "version": 3
   },
   "file_extension": ".py",
   "mimetype": "text/x-python",
   "name": "python",
   "nbconvert_exporter": "python",
   "pygments_lexer": "ipython3",
   "version": "3.12.4"
  }
 },
 "nbformat": 4,
 "nbformat_minor": 2
}
