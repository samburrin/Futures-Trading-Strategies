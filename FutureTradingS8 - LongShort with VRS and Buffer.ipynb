{
 "cells": [
  {
   "cell_type": "code",
   "execution_count": 668,
   "metadata": {},
   "outputs": [],
   "source": [
    "import pandas as pd\n",
    "import numpy as np\n",
    "from datetime import datetime\n",
    "import matplotlib.pyplot as plt"
   ]
  },
  {
   "cell_type": "code",
   "execution_count": 669,
   "metadata": {},
   "outputs": [],
   "source": [
    "df_2024 = pd.read_parquet(r\"C:\\Users\\Guest_Account\\Desktop\\Futures Strategies\\Futures_2024.parquet\", engine='pyarrow')\n",
    "df_2023 = pd.read_parquet(r\"C:\\Users\\Guest_Account\\Desktop\\Futures Strategies\\Futures_2023.parquet\", engine='pyarrow')"
   ]
  },
  {
   "cell_type": "code",
   "execution_count": 670,
   "metadata": {},
   "outputs": [
    {
     "name": "stderr",
     "output_type": "stream",
     "text": [
      "C:\\Users\\Guest_Account\\AppData\\Local\\Temp\\ipykernel_28120\\975647947.py:7: FutureWarning: 'T' is deprecated and will be removed in a future version, please use 'min' instead.\n",
      "  prices = prices.resample('30T', origin = '2023-01-02 09:15:00').last()\n"
     ]
    }
   ],
   "source": [
    "df = pd.concat([df_2023, df_2024])\n",
    "df = df[[col for col in df.columns if 'Close' in col]]\n",
    "price = df['AUROPHARMA_Close']\n",
    "prices = price.to_frame(name=' AUROPHARMA Price')\n",
    "prices.index = pd.to_datetime(prices.index)\n",
    "prices.index.name = 'Datetime'\n",
    "prices = prices.resample('30T', origin = '2023-01-02 09:15:00').last()\n",
    "prices.dropna(inplace=True)"
   ]
  },
  {
   "cell_type": "code",
   "execution_count": 671,
   "metadata": {},
   "outputs": [],
   "source": [
    "def calculate_returns_and_std_dev(prices):\n",
    "        returns = (prices.diff() / prices.shift(1)) *100\n",
    "        sd_returns_s = returns.ewm(span = 32).std()\n",
    "        sd_returns_l = returns.ewm(span = 700).std()\n",
    "        sd_returns = 0.3*sd_returns_l + 0.7*sd_returns_s\n",
    "        sd_returns.index = prices.index\n",
    "        \n",
    "        return sd_returns*110"
   ]
  },
  {
   "cell_type": "code",
   "execution_count": 672,
   "metadata": {},
   "outputs": [
    {
     "data": {
      "text/html": [
       "<div>\n",
       "<style scoped>\n",
       "    .dataframe tbody tr th:only-of-type {\n",
       "        vertical-align: middle;\n",
       "    }\n",
       "\n",
       "    .dataframe tbody tr th {\n",
       "        vertical-align: top;\n",
       "    }\n",
       "\n",
       "    .dataframe thead th {\n",
       "        text-align: right;\n",
       "    }\n",
       "</style>\n",
       "<table border=\"1\" class=\"dataframe\">\n",
       "  <thead>\n",
       "    <tr style=\"text-align: right;\">\n",
       "      <th></th>\n",
       "      <th>AUROPHARMA Price</th>\n",
       "    </tr>\n",
       "    <tr>\n",
       "      <th>Datetime</th>\n",
       "      <th></th>\n",
       "    </tr>\n",
       "  </thead>\n",
       "  <tbody>\n",
       "    <tr>\n",
       "      <th>2023-01-02 09:15:00</th>\n",
       "      <td>432.95</td>\n",
       "    </tr>\n",
       "    <tr>\n",
       "      <th>2023-01-02 09:45:00</th>\n",
       "      <td>433.00</td>\n",
       "    </tr>\n",
       "    <tr>\n",
       "      <th>2023-01-02 10:15:00</th>\n",
       "      <td>434.00</td>\n",
       "    </tr>\n",
       "    <tr>\n",
       "      <th>2023-01-02 10:45:00</th>\n",
       "      <td>433.80</td>\n",
       "    </tr>\n",
       "    <tr>\n",
       "      <th>2023-01-02 11:15:00</th>\n",
       "      <td>433.80</td>\n",
       "    </tr>\n",
       "    <tr>\n",
       "      <th>...</th>\n",
       "      <td>...</td>\n",
       "    </tr>\n",
       "    <tr>\n",
       "      <th>2024-07-02 13:15:00</th>\n",
       "      <td>1216.10</td>\n",
       "    </tr>\n",
       "    <tr>\n",
       "      <th>2024-07-02 13:45:00</th>\n",
       "      <td>1216.15</td>\n",
       "    </tr>\n",
       "    <tr>\n",
       "      <th>2024-07-02 14:15:00</th>\n",
       "      <td>1218.10</td>\n",
       "    </tr>\n",
       "    <tr>\n",
       "      <th>2024-07-02 14:45:00</th>\n",
       "      <td>1218.30</td>\n",
       "    </tr>\n",
       "    <tr>\n",
       "      <th>2024-07-02 15:15:00</th>\n",
       "      <td>1219.55</td>\n",
       "    </tr>\n",
       "  </tbody>\n",
       "</table>\n",
       "<p>4787 rows × 1 columns</p>\n",
       "</div>"
      ],
      "text/plain": [
       "                     AUROPHARMA Price\n",
       "Datetime                             \n",
       "2023-01-02 09:15:00            432.95\n",
       "2023-01-02 09:45:00            433.00\n",
       "2023-01-02 10:15:00            434.00\n",
       "2023-01-02 10:45:00            433.80\n",
       "2023-01-02 11:15:00            433.80\n",
       "...                               ...\n",
       "2024-07-02 13:15:00           1216.10\n",
       "2024-07-02 13:45:00           1216.15\n",
       "2024-07-02 14:15:00           1218.10\n",
       "2024-07-02 14:45:00           1218.30\n",
       "2024-07-02 15:15:00           1219.55\n",
       "\n",
       "[4787 rows x 1 columns]"
      ]
     },
     "execution_count": 672,
     "metadata": {},
     "output_type": "execute_result"
    }
   ],
   "source": [
    "prices"
   ]
  },
  {
   "cell_type": "code",
   "execution_count": 673,
   "metadata": {},
   "outputs": [
    {
     "data": {
      "text/plain": [
       "AUROPHARMA Price    17.065175\n",
       "Name: 2023-01-02 10:15:00, dtype: float64"
      ]
     },
     "execution_count": 673,
     "metadata": {},
     "output_type": "execute_result"
    }
   ],
   "source": [
    "sd = calculate_returns_and_std_dev(prices)\n",
    "sd.iloc[2]"
   ]
  },
  {
   "cell_type": "code",
   "execution_count": 674,
   "metadata": {},
   "outputs": [],
   "source": [
    "def calculate_ewma_signals(prices):\n",
    "        ewma_16 = prices.ewm(span=16).mean()\n",
    "        ewma_64 = prices.ewm(span=64).mean()\n",
    "        ewma_16.index = prices.index\n",
    "        ewma_64.index = prices.index\n",
    "        return ewma_16, ewma_64"
   ]
  },
  {
   "cell_type": "code",
   "execution_count": 675,
   "metadata": {},
   "outputs": [],
   "source": [
    "for timestamp in prices.index:\n",
    "\n",
    "        def capped_forecast(prices):\n",
    "                ewma_16, ewma_64 = calculate_ewma_signals(prices)\n",
    "                sd = calculate_returns_and_std_dev(prices)\n",
    "                sigma_p = (prices * sd)/ 1600\n",
    "\n",
    "                raw_forecast = (ewma_16 - ewma_64) / (sigma_p)\n",
    "\n",
    "                scaled_forecast = 4.1 * raw_forecast \n",
    "\n",
    "                return scaled_forecast\n"
   ]
  },
  {
   "cell_type": "code",
   "execution_count": 676,
   "metadata": {},
   "outputs": [],
   "source": [
    "cf = capped_forecast(prices)"
   ]
  },
  {
   "cell_type": "code",
   "execution_count": 677,
   "metadata": {},
   "outputs": [
    {
     "data": {
      "text/plain": [
       "AUROPHARMA Price    1.259115\n",
       "dtype: float64"
      ]
     },
     "execution_count": 677,
     "metadata": {},
     "output_type": "execute_result"
    }
   ],
   "source": [
    "abs(cf).mean()"
   ]
  },
  {
   "cell_type": "code",
   "execution_count": 678,
   "metadata": {},
   "outputs": [],
   "source": [
    "ewma_16 , ewma_64 = calculate_ewma_signals(prices)"
   ]
  },
  {
   "cell_type": "code",
   "execution_count": 679,
   "metadata": {},
   "outputs": [
    {
     "data": {
      "text/html": [
       "<div>\n",
       "<style scoped>\n",
       "    .dataframe tbody tr th:only-of-type {\n",
       "        vertical-align: middle;\n",
       "    }\n",
       "\n",
       "    .dataframe tbody tr th {\n",
       "        vertical-align: top;\n",
       "    }\n",
       "\n",
       "    .dataframe thead th {\n",
       "        text-align: right;\n",
       "    }\n",
       "</style>\n",
       "<table border=\"1\" class=\"dataframe\">\n",
       "  <thead>\n",
       "    <tr style=\"text-align: right;\">\n",
       "      <th></th>\n",
       "      <th>AUROPHARMA Price</th>\n",
       "    </tr>\n",
       "  </thead>\n",
       "  <tbody>\n",
       "    <tr>\n",
       "      <th>count</th>\n",
       "      <td>4787.000000</td>\n",
       "    </tr>\n",
       "    <tr>\n",
       "      <th>mean</th>\n",
       "      <td>3.887753</td>\n",
       "    </tr>\n",
       "    <tr>\n",
       "      <th>std</th>\n",
       "      <td>11.579127</td>\n",
       "    </tr>\n",
       "    <tr>\n",
       "      <th>min</th>\n",
       "      <td>-44.045257</td>\n",
       "    </tr>\n",
       "    <tr>\n",
       "      <th>25%</th>\n",
       "      <td>-2.292791</td>\n",
       "    </tr>\n",
       "    <tr>\n",
       "      <th>50%</th>\n",
       "      <td>3.044904</td>\n",
       "    </tr>\n",
       "    <tr>\n",
       "      <th>75%</th>\n",
       "      <td>10.779766</td>\n",
       "    </tr>\n",
       "    <tr>\n",
       "      <th>max</th>\n",
       "      <td>37.542728</td>\n",
       "    </tr>\n",
       "  </tbody>\n",
       "</table>\n",
       "</div>"
      ],
      "text/plain": [
       "       AUROPHARMA Price\n",
       "count       4787.000000\n",
       "mean           3.887753\n",
       "std           11.579127\n",
       "min          -44.045257\n",
       "25%           -2.292791\n",
       "50%            3.044904\n",
       "75%           10.779766\n",
       "max           37.542728"
      ]
     },
     "execution_count": 679,
     "metadata": {},
     "output_type": "execute_result"
    }
   ],
   "source": [
    "(ewma_16 - ewma_64).describe()"
   ]
  },
  {
   "cell_type": "code",
   "execution_count": 680,
   "metadata": {},
   "outputs": [
    {
     "ename": "KeyError",
     "evalue": "Timestamp('2023-01-02 10:15:00')",
     "output_type": "error",
     "traceback": [
      "\u001b[1;31m---------------------------------------------------------------------------\u001b[0m",
      "\u001b[1;31mKeyError\u001b[0m                                  Traceback (most recent call last)",
      "File \u001b[1;32mc:\\Users\\Guest_Account\\Lib\\site-packages\\pandas\\core\\indexes\\base.py:3805\u001b[0m, in \u001b[0;36mIndex.get_loc\u001b[1;34m(self, key)\u001b[0m\n\u001b[0;32m   3804\u001b[0m \u001b[38;5;28;01mtry\u001b[39;00m:\n\u001b[1;32m-> 3805\u001b[0m     \u001b[38;5;28;01mreturn\u001b[39;00m \u001b[38;5;28;43mself\u001b[39;49m\u001b[38;5;241;43m.\u001b[39;49m\u001b[43m_engine\u001b[49m\u001b[38;5;241;43m.\u001b[39;49m\u001b[43mget_loc\u001b[49m\u001b[43m(\u001b[49m\u001b[43mcasted_key\u001b[49m\u001b[43m)\u001b[49m\n\u001b[0;32m   3806\u001b[0m \u001b[38;5;28;01mexcept\u001b[39;00m \u001b[38;5;167;01mKeyError\u001b[39;00m \u001b[38;5;28;01mas\u001b[39;00m err:\n",
      "File \u001b[1;32mindex.pyx:167\u001b[0m, in \u001b[0;36mpandas._libs.index.IndexEngine.get_loc\u001b[1;34m()\u001b[0m\n",
      "File \u001b[1;32mindex.pyx:196\u001b[0m, in \u001b[0;36mpandas._libs.index.IndexEngine.get_loc\u001b[1;34m()\u001b[0m\n",
      "File \u001b[1;32mpandas\\\\_libs\\\\hashtable_class_helper.pxi:7081\u001b[0m, in \u001b[0;36mpandas._libs.hashtable.PyObjectHashTable.get_item\u001b[1;34m()\u001b[0m\n",
      "File \u001b[1;32mpandas\\\\_libs\\\\hashtable_class_helper.pxi:7089\u001b[0m, in \u001b[0;36mpandas._libs.hashtable.PyObjectHashTable.get_item\u001b[1;34m()\u001b[0m\n",
      "\u001b[1;31mKeyError\u001b[0m: Timestamp('2023-01-02 10:15:00')",
      "\nThe above exception was the direct cause of the following exception:\n",
      "\u001b[1;31mKeyError\u001b[0m                                  Traceback (most recent call last)",
      "Cell \u001b[1;32mIn[680], line 155\u001b[0m\n\u001b[0;32m    150\u001b[0m strategy \u001b[38;5;241m=\u001b[39m FutureStrategyTwo(prices)\n\u001b[0;32m    154\u001b[0m \u001b[38;5;28;01mfor\u001b[39;00m timestamp \u001b[38;5;129;01min\u001b[39;00m prices\u001b[38;5;241m.\u001b[39mindex[\u001b[38;5;241m2\u001b[39m:]:  \n\u001b[1;32m--> 155\u001b[0m     \u001b[43mstrategy\u001b[49m\u001b[38;5;241;43m.\u001b[39;49m\u001b[43mtrade\u001b[49m\u001b[43m(\u001b[49m\u001b[43mtimestamp\u001b[49m\u001b[43m)\u001b[49m\n\u001b[0;32m    157\u001b[0m cap_progression \u001b[38;5;241m=\u001b[39m strategy\u001b[38;5;241m.\u001b[39mget_capital_progression()[\u001b[38;5;241m1\u001b[39m:]\n\u001b[0;32m    158\u001b[0m \u001b[38;5;28mprint\u001b[39m(\u001b[38;5;124m\"\u001b[39m\u001b[38;5;124mCapital Progression Over Time:\u001b[39m\u001b[38;5;124m\"\u001b[39m)\n",
      "Cell \u001b[1;32mIn[680], line 108\u001b[0m, in \u001b[0;36mFutureStrategyTwo.trade\u001b[1;34m(self, timestamp)\u001b[0m\n\u001b[0;32m    106\u001b[0m \u001b[38;5;28;01mdef\u001b[39;00m \u001b[38;5;21mtrade\u001b[39m(\u001b[38;5;28mself\u001b[39m, timestamp):\n\u001b[1;32m--> 108\u001b[0m     num_of_contracts \u001b[38;5;241m=\u001b[39m  \u001b[38;5;28;43mself\u001b[39;49m\u001b[38;5;241;43m.\u001b[39;49m\u001b[43mcalculate_N\u001b[49m\u001b[43m(\u001b[49m\u001b[43mtimestamp\u001b[49m\u001b[43m)\u001b[49m\n\u001b[0;32m    110\u001b[0m     lower_buffer, upper_buffer \u001b[38;5;241m=\u001b[39m \u001b[38;5;28mself\u001b[39m\u001b[38;5;241m.\u001b[39mbuffer_region(timestamp)\n\u001b[0;32m    112\u001b[0m     \u001b[38;5;28;01mif\u001b[39;00m lower_buffer \u001b[38;5;241m<\u001b[39m\u001b[38;5;241m=\u001b[39m \u001b[38;5;28mself\u001b[39m\u001b[38;5;241m.\u001b[39mposition \u001b[38;5;241m<\u001b[39m\u001b[38;5;241m=\u001b[39m upper_buffer:\n",
      "Cell \u001b[1;32mIn[680], line 64\u001b[0m, in \u001b[0;36mFutureStrategyTwo.calculate_N\u001b[1;34m(self, timestamp)\u001b[0m\n\u001b[0;32m     62\u001b[0m \u001b[38;5;28;01mdef\u001b[39;00m \u001b[38;5;21mcalculate_N\u001b[39m(\u001b[38;5;28mself\u001b[39m, timestamp):\n\u001b[0;32m     63\u001b[0m     price \u001b[38;5;241m=\u001b[39m \u001b[38;5;28mself\u001b[39m\u001b[38;5;241m.\u001b[39mprices\u001b[38;5;241m.\u001b[39mloc[timestamp]\n\u001b[1;32m---> 64\u001b[0m     cap_forecast_series \u001b[38;5;241m=\u001b[39m \u001b[38;5;28;43mself\u001b[39;49m\u001b[38;5;241;43m.\u001b[39;49m\u001b[43mcapped_forecast_series\u001b[49m\u001b[43m(\u001b[49m\u001b[43mtimestamp\u001b[49m\u001b[43m)\u001b[49m\n\u001b[0;32m     65\u001b[0m     num_of_contracts \u001b[38;5;241m=\u001b[39m (cap_forecast_series\u001b[38;5;241m.\u001b[39mloc[timestamp] \u001b[38;5;241m*\u001b[39m \u001b[38;5;28mself\u001b[39m\u001b[38;5;241m.\u001b[39mcash \u001b[38;5;241m*\u001b[39m \u001b[38;5;28mself\u001b[39m\u001b[38;5;241m.\u001b[39mtargetrisk) \u001b[38;5;241m/\u001b[39m (\u001b[38;5;241m10\u001b[39m \u001b[38;5;241m*\u001b[39mprice \u001b[38;5;241m*\u001b[39m \u001b[38;5;28mself\u001b[39m\u001b[38;5;241m.\u001b[39mmult \u001b[38;5;241m*\u001b[39m \u001b[38;5;28mself\u001b[39m\u001b[38;5;241m.\u001b[39msd_returns\u001b[38;5;241m.\u001b[39mloc[timestamp])\n\u001b[0;32m     67\u001b[0m     \u001b[38;5;28;01mreturn\u001b[39;00m \u001b[38;5;28mint\u001b[39m(num_of_contracts)\n",
      "Cell \u001b[1;32mIn[680], line 56\u001b[0m, in \u001b[0;36mFutureStrategyTwo.capped_forecast_series\u001b[1;34m(self, timestamp)\u001b[0m\n\u001b[0;32m     53\u001b[0m capped_forecast \u001b[38;5;241m=\u001b[39m \u001b[38;5;241m10\u001b[39m \u001b[38;5;241m*\u001b[39m raw_forecast\u001b[38;5;241m/\u001b[39mavg_raw\n\u001b[0;32m     55\u001b[0m cap_forecast \u001b[38;5;241m=\u001b[39m pd\u001b[38;5;241m.\u001b[39mSeries(index \u001b[38;5;241m=\u001b[39m prices\u001b[38;5;241m.\u001b[39mindex)\n\u001b[1;32m---> 56\u001b[0m cap_forecast[timestamp] \u001b[38;5;241m=\u001b[39m \u001b[38;5;28mmax\u001b[39m(\u001b[38;5;28mmin\u001b[39m(\u001b[43mcapped_forecast\u001b[49m\u001b[43m[\u001b[49m\u001b[43mtimestamp\u001b[49m\u001b[43m]\u001b[49m, \u001b[38;5;241m20\u001b[39m), \u001b[38;5;241m-\u001b[39m\u001b[38;5;241m20\u001b[39m)\n\u001b[0;32m     59\u001b[0m \u001b[38;5;28;01mreturn\u001b[39;00m capped_forecast\n",
      "File \u001b[1;32mc:\\Users\\Guest_Account\\Lib\\site-packages\\pandas\\core\\frame.py:4102\u001b[0m, in \u001b[0;36mDataFrame.__getitem__\u001b[1;34m(self, key)\u001b[0m\n\u001b[0;32m   4100\u001b[0m \u001b[38;5;28;01mif\u001b[39;00m \u001b[38;5;28mself\u001b[39m\u001b[38;5;241m.\u001b[39mcolumns\u001b[38;5;241m.\u001b[39mnlevels \u001b[38;5;241m>\u001b[39m \u001b[38;5;241m1\u001b[39m:\n\u001b[0;32m   4101\u001b[0m     \u001b[38;5;28;01mreturn\u001b[39;00m \u001b[38;5;28mself\u001b[39m\u001b[38;5;241m.\u001b[39m_getitem_multilevel(key)\n\u001b[1;32m-> 4102\u001b[0m indexer \u001b[38;5;241m=\u001b[39m \u001b[38;5;28;43mself\u001b[39;49m\u001b[38;5;241;43m.\u001b[39;49m\u001b[43mcolumns\u001b[49m\u001b[38;5;241;43m.\u001b[39;49m\u001b[43mget_loc\u001b[49m\u001b[43m(\u001b[49m\u001b[43mkey\u001b[49m\u001b[43m)\u001b[49m\n\u001b[0;32m   4103\u001b[0m \u001b[38;5;28;01mif\u001b[39;00m is_integer(indexer):\n\u001b[0;32m   4104\u001b[0m     indexer \u001b[38;5;241m=\u001b[39m [indexer]\n",
      "File \u001b[1;32mc:\\Users\\Guest_Account\\Lib\\site-packages\\pandas\\core\\indexes\\base.py:3812\u001b[0m, in \u001b[0;36mIndex.get_loc\u001b[1;34m(self, key)\u001b[0m\n\u001b[0;32m   3807\u001b[0m     \u001b[38;5;28;01mif\u001b[39;00m \u001b[38;5;28misinstance\u001b[39m(casted_key, \u001b[38;5;28mslice\u001b[39m) \u001b[38;5;129;01mor\u001b[39;00m (\n\u001b[0;32m   3808\u001b[0m         \u001b[38;5;28misinstance\u001b[39m(casted_key, abc\u001b[38;5;241m.\u001b[39mIterable)\n\u001b[0;32m   3809\u001b[0m         \u001b[38;5;129;01mand\u001b[39;00m \u001b[38;5;28many\u001b[39m(\u001b[38;5;28misinstance\u001b[39m(x, \u001b[38;5;28mslice\u001b[39m) \u001b[38;5;28;01mfor\u001b[39;00m x \u001b[38;5;129;01min\u001b[39;00m casted_key)\n\u001b[0;32m   3810\u001b[0m     ):\n\u001b[0;32m   3811\u001b[0m         \u001b[38;5;28;01mraise\u001b[39;00m InvalidIndexError(key)\n\u001b[1;32m-> 3812\u001b[0m     \u001b[38;5;28;01mraise\u001b[39;00m \u001b[38;5;167;01mKeyError\u001b[39;00m(key) \u001b[38;5;28;01mfrom\u001b[39;00m \u001b[38;5;21;01merr\u001b[39;00m\n\u001b[0;32m   3813\u001b[0m \u001b[38;5;28;01mexcept\u001b[39;00m \u001b[38;5;167;01mTypeError\u001b[39;00m:\n\u001b[0;32m   3814\u001b[0m     \u001b[38;5;66;03m# If we have a listlike key, _check_indexing_error will raise\u001b[39;00m\n\u001b[0;32m   3815\u001b[0m     \u001b[38;5;66;03m#  InvalidIndexError. Otherwise we fall through and re-raise\u001b[39;00m\n\u001b[0;32m   3816\u001b[0m     \u001b[38;5;66;03m#  the TypeError.\u001b[39;00m\n\u001b[0;32m   3817\u001b[0m     \u001b[38;5;28mself\u001b[39m\u001b[38;5;241m.\u001b[39m_check_indexing_error(key)\n",
      "\u001b[1;31mKeyError\u001b[0m: Timestamp('2023-01-02 10:15:00')"
     ]
    }
   ],
   "source": [
    "#Plan:\n",
    "#Difference now is we need to use a faster trend (16, 64)\n",
    "#Also, need a raw forecast function and scaled forecast\n",
    "#Then change N accordingly\n",
    "#Add Buffer\n",
    "\n",
    "\n",
    "class FutureStrategyTwo:\n",
    "    def __init__(self, price, initial_capital= 1000000, target_risk = 20):\n",
    "        self.prices = prices\n",
    "        self.mult = 550 #Found in other doc\n",
    "        self.cash = initial_capital \n",
    "        self.targetrisk = target_risk #%, as found in book.\n",
    "        self.position = 4\n",
    "        self.trade_log = []\n",
    "        self.capital_series = pd.Series(index=prices.index)\n",
    "        self.capital_series.iloc[1] = initial_capital\n",
    "        self.position_series = pd.Series(index=prices.index)\n",
    "       \n",
    "\n",
    "\n",
    "        self.sd_returns = self.calculate_returns_and_std_dev()\n",
    "        self.ewma_16, self.ewma_64 = self.calculate_ewma_signals()\n",
    "        \n",
    "\n",
    "\n",
    "\n",
    "    def calculate_returns_and_std_dev(self):\n",
    "        returns = (self.prices.diff() / self.prices.shift(1)) *100\n",
    "        sd_returns_s = returns.ewm(span = 32).std()\n",
    "        sd_returns_l = returns.ewm(span = 700).std()\n",
    "        sd_returns = 0.3*sd_returns_l + 0.7*sd_returns_s\n",
    "        sd_returns.index = self.prices.index\n",
    "        \n",
    "        return sd_returns*110\n",
    "    \n",
    "    def calculate_ewma_signals(self):\n",
    "        ewma_16 = self.prices.ewm(span=16).mean()\n",
    "        ewma_64 = self.prices.ewm(span=64).mean()\n",
    "        ewma_16.index = self.prices.index\n",
    "        ewma_64.index = self.prices.index\n",
    "        return ewma_16, ewma_64\n",
    "        \n",
    "    def capped_forecast_series(self,timestamp):\n",
    "        price =  self.prices\n",
    "        s_d = self.sd_returns\n",
    "        sigma_p = (price * s_d)/ 1600\n",
    "\n",
    "        raw_forecast = (self.ewma_16 - self.ewma_64) / (sigma_p)\n",
    "\n",
    "        avg_raw = abs(raw_forecast).mean()\n",
    "\n",
    "        capped_forecast = 10 * raw_forecast/avg_raw\n",
    "\n",
    "        cap_forecast = pd.Series(index = prices.index)\n",
    "        cap_forecast[timestamp] = max(min(capped_forecast[timestamp], 20), -20)\n",
    "\n",
    "\n",
    "        return capped_forecast\n",
    "\n",
    "        \n",
    "    def calculate_N(self, timestamp):\n",
    "        price = self.prices.loc[timestamp]\n",
    "        cap_forecast_series = self.capped_forecast_series(timestamp)\n",
    "        num_of_contracts = (cap_forecast_series.loc[timestamp] * self.cash * self.targetrisk) / (10 *price * self.mult * self.sd_returns.loc[timestamp])\n",
    " \n",
    "        return int(num_of_contracts)   \n",
    "\n",
    "    def buy_contract(self, timestamp, contracts):\n",
    "        price = self.prices.loc[timestamp]\n",
    "        self.position += contracts\n",
    "        self.cash -= contracts * price * self.mult\n",
    "        self.trade_log.append((timestamp, 'BUY', contracts, price))\n",
    "        self.capital_series[timestamp] = self.capital_series.shift(1).loc[timestamp] + (price - self.prices.shift(1).loc[timestamp])*self.position*self.mult\n",
    "        self.position_series[timestamp] = self.position\n",
    "\n",
    "    def sell_contract(self, timestamp, contracts):\n",
    "        price = self.prices.loc[timestamp]\n",
    "        self.position -= contracts\n",
    "        self.cash += contracts * price * self.mult\n",
    "        self.trade_log.append((timestamp, 'SELL', contracts, price))\n",
    "        self.capital_series[timestamp] = self.capital_series.shift(1).loc[timestamp] + (price - self.prices.shift(1).loc[timestamp])*self.position*self.mult\n",
    "        self.position_series[timestamp] = self.position\n",
    "    \n",
    "    def no_trade(self, timestamp, contracts):\n",
    "        price = self.prices.loc[timestamp]\n",
    "        self.position += contracts\n",
    "        self.cash -= contracts * price * self.mult\n",
    "        self.trade_log.append((timestamp, 'HOLD POSITION', price))\n",
    "        self.capital_series[timestamp] = self.capital_series.shift(1).loc[timestamp] + (price - self.prices.shift(1).loc[timestamp])*self.position*self.mult\n",
    "        self.position_series[timestamp] = self.position\n",
    "\n",
    "    def buffer_region(self, timestamp):\n",
    "        price = self.prices.loc[timestamp].values\n",
    "        f = 0.1\n",
    "        buffer_value = (f * self.cash * self.targetrisk) / (self.mult * price * self.sd_returns.loc[timestamp].values)\n",
    "\n",
    "        n = self.calculate_N(timestamp)\n",
    "\n",
    "        lower_buffer = int(n - buffer_value)\n",
    "        upper_buffer = int(n + buffer_value)\n",
    "        \n",
    "        return lower_buffer, upper_buffer\n",
    "\n",
    "\n",
    "    def trade(self, timestamp):\n",
    "    \n",
    "        num_of_contracts =  self.calculate_N(timestamp)\n",
    "\n",
    "        lower_buffer, upper_buffer = self.buffer_region(timestamp)\n",
    "\n",
    "        if lower_buffer <= self.position <= upper_buffer:\n",
    "            self.no_trade(timestamp, 0)\n",
    "\n",
    "        elif self.position < lower_buffer:\n",
    "            self.buy_contract(timestamp, lower_buffer - self.position)\n",
    "        \n",
    "        elif self.position > upper_buffer:\n",
    "            self.sell_contract(timestamp, self.position - upper_buffer)\n",
    "\n",
    "        \n",
    "\n",
    "        #if num_of_contracts> 0:\n",
    "            #contracts_to_trade = num_of_contracts - self.position\n",
    "        #elif num_of_contracts< 0:\n",
    "            #contracts_to_trade = self.position - num_of_contracts\n",
    "        #else:\n",
    "            #contracts_to_trade = -self.position\n",
    "\n",
    "\n",
    "        #if (contracts_to_trade > 0) : \n",
    "            #self.buy_contract(timestamp, contracts_to_trade)\n",
    "\n",
    "        #elif (contracts_to_trade < 0):\n",
    "            #self.sell_contract(timestamp, -(contracts_to_trade))\n",
    "        \n",
    "        #else:\n",
    "            #self.no_trade(timestamp, 0) \n",
    "\n",
    "        \n",
    "    def get_capital_progression(self):\n",
    "        return self.capital_series\n",
    "\n",
    "    def get_trade_log(self):\n",
    "        return self.trade_log\n",
    "    \n",
    "    def get_position_series(self):\n",
    "        return self.position_series\n",
    "    \n",
    "strategy = FutureStrategyTwo(prices)\n",
    "\n",
    "\n",
    "\n",
    "for timestamp in prices.index[2:]:  \n",
    "    strategy.trade(timestamp)\n",
    "\n",
    "cap_progression = strategy.get_capital_progression()[1:]\n",
    "print(\"Capital Progression Over Time:\")\n",
    "print(cap_progression)\n",
    "\n",
    "trade_log = strategy.get_trade_log()\n",
    "print(\"Trade Log:\")\n",
    "print(trade_log)\n",
    "\n",
    "position_series = strategy.get_position_series()\n"
   ]
  },
  {
   "cell_type": "code",
   "execution_count": null,
   "metadata": {},
   "outputs": [],
   "source": [
    "def position_analysis(position_series):\n",
    "    plt.figure(figsize=(12, 6))\n",
    "    plt.plot(position_series, label='Position Size', color='blue')\n",
    "    plt.title('Position Size over Time', fontsize=16)\n",
    "    plt.xlabel('Date', fontsize=14)\n",
    "    plt.ylabel('Position', fontsize=14)\n",
    "    plt.grid(True)\n",
    "    plt.legend()\n",
    "    plt.tight_layout()\n",
    "    plt.show()"
   ]
  },
  {
   "cell_type": "code",
   "execution_count": null,
   "metadata": {},
   "outputs": [
    {
     "data": {
      "image/png": "[encoded data removed]",
      "text/plain": [
       "<Figure size 1200x600 with 1 Axes>"
      ]
     },
     "metadata": {},
     "output_type": "display_data"
    }
   ],
   "source": [
    "position_analysis(position_series)"
   ]
  },
  {
   "cell_type": "code",
   "execution_count": null,
   "metadata": {},
   "outputs": [],
   "source": [
    "#Ask about this... surely the forecast will always be so close to 0 with a high price."
   ]
  }
 ],
 "metadata": {
  "kernelspec": {
   "display_name": "Python 3",
   "language": "python",
   "name": "python3"
  },
  "language_info": {
   "codemirror_mode": {
    "name": "ipython",
    "version": 3
   },
   "file_extension": ".py",
   "mimetype": "text/x-python",
   "name": "python",
   "nbconvert_exporter": "python",
   "pygments_lexer": "ipython3",
   "version": "3.12.4"
  }
 },
 "nbformat": 4,
 "nbformat_minor": 2
}
