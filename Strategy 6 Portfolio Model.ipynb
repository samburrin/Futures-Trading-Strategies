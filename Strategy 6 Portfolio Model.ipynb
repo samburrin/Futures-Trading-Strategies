{
 "cells": [
  {
   "cell_type": "markdown",
   "metadata": {},
   "source": [
    "##### Import Libraries"
   ]
  },
  {
   "cell_type": "code",
   "execution_count": 165,
   "metadata": {},
   "outputs": [],
   "source": [
    "import pandas as pd\n",
    "import numpy as np\n",
    "from datetime import datetime\n",
    "import matplotlib.pyplot as plt\n",
    "from joblib import Parallel, delayed\n",
    "import multiprocessing"
   ]
  },
  {
   "cell_type": "markdown",
   "metadata": {},
   "source": [
    "##### Import futures data, then pre-process"
   ]
  },
  {
   "cell_type": "code",
   "execution_count": 166,
   "metadata": {},
   "outputs": [],
   "source": [
    "df_2024 = pd.read_parquet('Futures_2024.parquet', engine='pyarrow')\n",
    "df_2023 = pd.read_parquet('Futures_2023.parquet', engine='pyarrow')"
   ]
  },
  {
   "cell_type": "code",
   "execution_count": 167,
   "metadata": {},
   "outputs": [],
   "source": [
    "df = pd.concat([df_2023, df_2024])\n",
    "df = df[[col for col in df.columns if 'Close' in col]]\n",
    "df.index = pd.to_datetime(df.index)\n",
    "\n",
    "filter1 = df.dropna(axis=1, thresh=138428)\n",
    "filter2 = filter1.loc[:, (df != 0).all(axis=0)]\n",
    "base_df = filter2.resample('D',origin='2023-01-02 09:15:00').last().dropna()"
   ]
  },
  {
   "cell_type": "markdown",
   "metadata": {},
   "source": [
    "##### Import nifty data and pre-process"
   ]
  },
  {
   "cell_type": "code",
   "execution_count": 168,
   "metadata": {},
   "outputs": [],
   "source": [
    "df_nifty=pd.read_parquet('Idx_fut.parquet', engine='pyarrow')\n",
    "df_nifty = df_nifty[[col for col in df_nifty if 'NIFTY_Close' in col]]\n",
    "df_nifty.index = pd.to_datetime(df_nifty.index)\n",
    "df_nifty = df_nifty[df_nifty.index > '2023-01-02 09:15:00']\n",
    "nifty_frame = df_nifty.resample('D',origin='2023-01-02 09:15:00').last().dropna()\n",
    "nifty_frame.drop(columns = 'BANKNIFTY_Close', inplace=True)\n",
    "nifty_frame = nifty_frame[nifty_frame.index <'2024-07-02 15:15:00']"
   ]
  },
  {
   "cell_type": "markdown",
   "metadata": {},
   "source": [
    "##### Calculate relative prices"
   ]
  },
  {
   "cell_type": "code",
   "execution_count": 169,
   "metadata": {},
   "outputs": [],
   "source": [
    "rel_prices = base_df.div(nifty_frame['NIFTY_Close'], axis=0)"
   ]
  },
  {
   "cell_type": "markdown",
   "metadata": {},
   "source": [
    "##### Select only stocks from nifty"
   ]
  },
  {
   "cell_type": "code",
   "execution_count": 170,
   "metadata": {},
   "outputs": [],
   "source": [
    "nifty_50 = [\"MARUTI_Close\", \"ITC_Close\", \"M&M_Close\", \"TITAN_Close\", \"EICHERMOT_Close\", \"HEROMOTOCO_Close\", \"SBIN_Close\", \"HINDUNILVR_Close\", \"TATAMOTORS_Close\", \"LT_Close\", \"ICICIBANK_Close\", \"BAJAJFINSV_Close\", \"HDFCLIFE_Close\", \"SBILIFE_Close\", \"JSWSTEEL_Close\", \"HINDALCO_Close\", \"ASIANPAINT_Close\", \"ADANIPORTS_Close\", \"HDFCBANK_Close\", \"COALINDIA_Close\", \"TCS_Close\", \"INFY_Close\", \"NTPC_Close\", \"AXISBANK_Close\", \"APOLLOHOSP_Close\", \"TATASTEEL_Close\", \"BHARTIARTL_Close\", \"ADANIENT_Close\", \"INDUSINDBK_Close\", \"TECHM_Close\", \"KOTAKBANK_Close\", \"BAJFINANCE_Close\", \"BPCL_Close\", \"SHRIRAMFIN_Close\", \"RELIANCE_Close\", \"ONGC_Close\"]\n",
    "stock_prices = base_df[nifty_50]\n",
    "relative_prices = rel_prices[nifty_50]"
   ]
  },
  {
   "cell_type": "markdown",
   "metadata": {},
   "source": [
    "##### Pre-process lot sizes for each stock"
   ]
  },
  {
   "cell_type": "code",
   "execution_count": 171,
   "metadata": {},
   "outputs": [
    {
     "name": "stderr",
     "output_type": "stream",
     "text": [
      "C:\\Users\\Guest_Account\\AppData\\Local\\Temp\\ipykernel_11980\\3156634287.py:11: SettingWithCopyWarning: \n",
      "A value is trying to be set on a copy of a slice from a DataFrame\n",
      "\n",
      "See the caveats in the documentation: https://pandas.pydata.org/pandas-docs/stable/user_guide/indexing.html#returning-a-view-versus-a-copy\n",
      "  filtered_multiplier_df.drop(columns = 'segment', inplace=True)\n"
     ]
    }
   ],
   "source": [
    "multiplier = pd.read_csv('instrument_list.csv')\n",
    "multiplier = multiplier.drop(columns=[col for col in multiplier.columns if col not in ['name', 'segment', 'lot_size']])\n",
    "multiplier_nfo = multiplier[multiplier['segment'] == 'NFO-FUT']\n",
    "filtered_df = multiplier_nfo.drop_duplicates(subset='name', keep='first')\n",
    "valid_stocks = filtered_df['name'].unique()\n",
    "valid_stock_columns = [f\"{stock}_Close\" for stock in valid_stocks]\n",
    "columns_to_keep = [col for col in valid_stock_columns if col in stock_prices.columns]\n",
    "filtered_price_df = stock_prices[columns_to_keep]\n",
    "filtered_stock_names = [col.split('_')[0] for col in filtered_price_df.columns]\n",
    "filtered_multiplier_df = filtered_df[filtered_df['name'].isin(filtered_stock_names)]\n",
    "filtered_multiplier_df.drop(columns = 'segment', inplace=True)\n",
    "filtered_multiplier_df.set_index('name', inplace=True)\n",
    "filtered_multiplier_df.columns = ['mult']\n",
    "mult_list = filtered_multiplier_df\n",
    "mult_list.index = mult_list.index + '_Close'\n",
    "filtered_multiplier_df = filtered_df[filtered_df['name'].isin(filtered_stock_names)]"
   ]
  },
  {
   "cell_type": "markdown",
   "metadata": {},
   "source": [
    "##### Strategy:\n",
    "- Start with 36 stocks from nifty, and every day rank them based on relative momentum\n",
    "- Then use strategy 6 from futures strategies : Long/Short futures with variable risk scaling\n",
    "- For the top n stocks we calculate the position size using a target risk of 20%, then go long if the ema crossover is positive\n",
    "- For the bottom n we calculate position size then go short if ema crossover negative\n",
    "- If the position size is too large from Calculate_N, we use the max_exposure as a calculator for position size\n",
    "- All stocks have max exposure of 1Cr\n",
    "- Total 20 stocks in portfolio"
   ]
  },
  {
   "cell_type": "code",
   "execution_count": 172,
   "metadata": {},
   "outputs": [],
   "source": [
    "import pandas as pd\n",
    "import numpy as np\n",
    "import matplotlib.pyplot as plt\n",
    "\n",
    "class StratSixPortfolio:\n",
    "    def __init__(self, stock_prices, relative_prices, mult, lookback_period, num_stocks, max_positions, initial_capital=200000000, target_risk=20):\n",
    "        self.stock_prices = stock_prices\n",
    "        self.relative_prices = relative_prices\n",
    "        self.mult = mult\n",
    "        self.lookback_period = lookback_period\n",
    "        self.num_stocks = int(min(max_positions // 2, num_stocks))\n",
    "        self.max_positions = max_positions\n",
    "        self.available_capital = initial_capital\n",
    "        self.target_risk = target_risk\n",
    "        self.current_positions = {stock: 0 for stock in stock_prices.columns}\n",
    "        self.pnl_series = pd.Series(index=stock_prices.index)\n",
    "        self.trade_log = []\n",
    "\n",
    "        self.sd_returns = self.calculate_returns_and_std_dev()\n",
    "        self.ewma_16, self.ewma_256 = self.calculate_ewma_signals()\n",
    "\n",
    "    def calculate_momentum(self, data, current_time):\n",
    "        lookback_time = current_time - pd.Timedelta(days=self.lookback_period)\n",
    "        if lookback_time in data.index:\n",
    "            return (data.loc[current_time] / data.loc[lookback_time] - 1)\n",
    "        else:\n",
    "            return pd.Series(np.nan, index=data.columns)\n",
    "\n",
    "    def rank_stocks(self, current_time):\n",
    "        momentum_scores = self.calculate_momentum(self.relative_prices, current_time)\n",
    "        ranked_stocks = momentum_scores.sort_values(ascending=False)\n",
    "        return ranked_stocks\n",
    "\n",
    "    def calculate_returns_and_std_dev(self):\n",
    "        returns = (self.stock_prices.diff() / self.stock_prices.shift(1)) * 100\n",
    "        sd_returns_s = returns.ewm(span=32).std()\n",
    "        sd_returns_l = returns.ewm(span=700).std()\n",
    "        sd_returns = 0.3 * sd_returns_l + 0.7 * sd_returns_s\n",
    "        sd_returns.index = self.stock_prices.index\n",
    "        return sd_returns * 110  # (*sqrt(252)*sqrt(48)))\n",
    "\n",
    "    def calculate_ewma_signals(self):\n",
    "        ewma_16 = self.stock_prices.ewm(span=64).mean()\n",
    "        ewma_256 = self.stock_prices.ewm(span=256).mean()\n",
    "        ewma_16.index = self.stock_prices.index\n",
    "        ewma_256.index = self.stock_prices.index\n",
    "        return ewma_16, ewma_256\n",
    "\n",
    "    def calculate_N(self, timestamp, stock):\n",
    "        price = self.stock_prices.loc[timestamp, stock]\n",
    "        ewma_16_value = self.ewma_16.loc[timestamp, stock]\n",
    "        ewma_256_value = self.ewma_256.loc[timestamp, stock]\n",
    "        sgn = np.sign(ewma_16_value - ewma_256_value)\n",
    "\n",
    "        num_of_contracts = (self.available_capital * self.target_risk) / (price * self.mult.loc[stock].values * self.sd_returns.loc[timestamp, stock])\n",
    "\n",
    "        return int(num_of_contracts), sgn\n",
    "\n",
    "    def allocate_positions(self, ranked_stocks, current_prices, total_positions):\n",
    "        top_stocks = ranked_stocks.head(self.num_stocks)\n",
    "        bottom_stocks = ranked_stocks.tail(self.num_stocks)\n",
    "\n",
    "        long_positions = {}\n",
    "        short_positions = {}\n",
    "\n",
    "        top_stocks = [stock for stock in top_stocks.index if self.current_positions[stock] == 0]\n",
    "        bottom_stocks = [stock for stock in bottom_stocks.index if self.current_positions[stock] == 0]\n",
    "\n",
    "        max_exp_per_stock = 10000000\n",
    "\n",
    "        for stock in top_stocks:\n",
    "            if total_positions < self.max_positions:\n",
    "                position_size, sgn = self.calculate_N(current_prices.name, stock)\n",
    "                position_cost = position_size * current_prices[stock] * self.mult.loc[stock].values\n",
    "\n",
    "                if position_cost > max_exp_per_stock:\n",
    "                    position_size = int(max_exp_per_stock / (current_prices[stock] * self.mult.loc[stock].values))\n",
    "                    position_cost = position_size * current_prices[stock] * self.mult.loc[stock].values\n",
    "\n",
    "                if position_cost <= self.available_capital / 2 and sgn>0:\n",
    "                    long_positions[stock] = position_size\n",
    "                    self.trade_log.append({'date': current_prices.name, 'stock': stock, 'position': 'long', 'size': position_size, 'cost': position_cost, 'trading price': current_prices[stock]})\n",
    "\n",
    "                    total_positions += 1\n",
    "        \n",
    "        for stock in bottom_stocks:\n",
    "            if total_positions < self.max_positions:\n",
    "                position_size, sgn = self.calculate_N(current_prices.name, stock)\n",
    "                position_cost = position_size * current_prices[stock] * self.mult.loc[stock].values\n",
    "\n",
    "                if position_cost > max_exp_per_stock:\n",
    "                    position_size = int(max_exp_per_stock / (current_prices[stock] * self.mult.loc[stock].values))\n",
    "                    position_cost = position_size * current_prices[stock] * self.mult.loc[stock].values\n",
    "\n",
    "                if position_cost <= self.available_capital / 2 and sgn<0:\n",
    "                    short_positions[stock] = position_size\n",
    "                    self.trade_log.append({'date': current_prices.name, 'stock': stock, 'position': 'short', 'size': position_size, 'cost': position_cost, 'trading price': current_prices[stock]})\n",
    "                \n",
    "                    total_positions +=1\n",
    "        \n",
    "        return long_positions, short_positions, total_positions\n",
    "\n",
    "    def update_positions(self, long_positions, short_positions, previous_prices, current_prices):\n",
    "        liquidated_pnl = 0\n",
    "        total_positions = sum(1 for pos in self.current_positions.values() if pos != 0)\n",
    "\n",
    "        for stock in list(self.current_positions.keys()):\n",
    "            if stock not in long_positions and stock not in short_positions:\n",
    "                if self.current_positions[stock] != 0:\n",
    "                    price_change = current_prices[stock] - previous_prices[stock]\n",
    "                    liquidated_pnl += self.current_positions[stock] * price_change * self.mult.loc[stock].values\n",
    "                    self.current_positions[stock] = 0\n",
    "                    total_positions -= 1\n",
    "\n",
    "        for stock, position in long_positions.items():\n",
    "            self.current_positions[stock] = position\n",
    "\n",
    "        for stock, position in short_positions.items():\n",
    "            self.current_positions[stock] = -position\n",
    "\n",
    "        return liquidated_pnl, total_positions\n",
    "\n",
    "    def calculate_pnl(self, previous_prices, current_prices):\n",
    "        pnl = 0\n",
    "        for stock, position in self.current_positions.items():\n",
    "            price_change = current_prices[stock] - previous_prices[stock]\n",
    "            pnl += position * price_change * self.mult.loc[stock].values\n",
    "        return pnl\n",
    "\n",
    "    def trade(self):\n",
    "        unique_dates = self.stock_prices.index\n",
    "        unique_dates = unique_dates[self.lookback_period:]\n",
    "\n",
    "        next_unique_dates = self.stock_prices.index\n",
    "        next_unique_dates = next_unique_dates[self.lookback_period - 1:]\n",
    "\n",
    "        total_positions = sum(1 for pos in self.current_positions.values() if pos != 0)\n",
    "\n",
    "        for current_time, prev_time in zip(unique_dates, next_unique_dates):\n",
    "            previous_prices = self.stock_prices.loc[prev_time]\n",
    "            current_prices = self.stock_prices.loc[current_time]\n",
    "            ranked_stocks = self.rank_stocks(current_time)\n",
    "            long_positions, short_positions, total_positions = self.allocate_positions(ranked_stocks, current_prices, total_positions)\n",
    "            liquidated_pnl, total_positions = self.update_positions(long_positions, short_positions, previous_prices, current_prices)\n",
    "            pnl = self.calculate_pnl(previous_prices, current_prices) + liquidated_pnl\n",
    "            self.pnl_series[current_time] = pnl\n",
    "\n",
    "            self.available_capital += pnl\n",
    "\n",
    "        return pd.Series(self.pnl_series, index=self.stock_prices.index[self.lookback_period:]).cumsum()\n",
    "\n",
    "\n",
    "def plot_pnl(pnl_series):\n",
    "    plt.figure(figsize=(10, 6))\n",
    "    pnl_series.plot()\n",
    "    plt.title('Cumulative PnL')\n",
    "    plt.xlabel('Date')\n",
    "    plt.ylabel('Cumulative PnL')\n",
    "    plt.grid(True)\n",
    "    plt.show()\n",
    "\n",
    "\n"
   ]
  },
  {
   "cell_type": "code",
   "execution_count": 173,
   "metadata": {},
   "outputs": [],
   "source": [
    "strategy = StratSixPortfolio(stock_prices, relative_prices, mult_list, 10, 7, 20, initial_capital=200000000, target_risk=20)"
   ]
  },
  {
   "cell_type": "code",
   "execution_count": 174,
   "metadata": {},
   "outputs": [
    {
     "name": "stderr",
     "output_type": "stream",
     "text": [
      "C:\\Users\\Guest_Account\\AppData\\Local\\Temp\\ipykernel_11980\\1837359796.py:57: DeprecationWarning: Conversion of an array with ndim > 0 to a scalar is deprecated, and will error in future. Ensure you extract a single element from your array before performing this operation. (Deprecated NumPy 1.25.)\n",
      "  return int(num_of_contracts), sgn\n",
      "C:\\Users\\Guest_Account\\AppData\\Local\\Temp\\ipykernel_11980\\1837359796.py:77: DeprecationWarning: Conversion of an array with ndim > 0 to a scalar is deprecated, and will error in future. Ensure you extract a single element from your array before performing this operation. (Deprecated NumPy 1.25.)\n",
      "  position_size = int(max_exp_per_stock / (current_prices[stock] * self.mult.loc[stock].values))\n",
      "C:\\Users\\Guest_Account\\AppData\\Local\\Temp\\ipykernel_11980\\1837359796.py:92: DeprecationWarning: Conversion of an array with ndim > 0 to a scalar is deprecated, and will error in future. Ensure you extract a single element from your array before performing this operation. (Deprecated NumPy 1.25.)\n",
      "  position_size = int(max_exp_per_stock / (current_prices[stock] * self.mult.loc[stock].values))\n"
     ]
    }
   ],
   "source": [
    "pnl_series = strategy.trade()"
   ]
  },
  {
   "cell_type": "code",
   "execution_count": 175,
   "metadata": {},
   "outputs": [
    {
     "data": {
      "text/plain": [
       "DateTime\n",
       "2023-01-16 09:15:00    8.540100e+05\n",
       "2023-01-17 09:15:00    8.669500e+05\n",
       "2023-01-18 09:15:00    7.345362e+05\n",
       "2023-01-19 09:15:00    1.678319e+06\n",
       "2023-01-20 09:15:00    2.481847e+06\n",
       "                           ...     \n",
       "2024-06-26 09:15:00    1.146022e+08\n",
       "2024-06-27 09:15:00    1.147423e+08\n",
       "2024-06-28 09:15:00    1.151299e+08\n",
       "2024-07-01 09:15:00    1.158880e+08\n",
       "2024-07-02 09:15:00    1.154618e+08\n",
       "Length: 359, dtype: float64"
      ]
     },
     "execution_count": 175,
     "metadata": {},
     "output_type": "execute_result"
    }
   ],
   "source": [
    "pnl_series"
   ]
  },
  {
   "cell_type": "markdown",
   "metadata": {},
   "source": [
    "##### Record trade log"
   ]
  },
  {
   "cell_type": "code",
   "execution_count": 176,
   "metadata": {},
   "outputs": [],
   "source": [
    "trade_log = pd.DataFrame(strategy.trade_log)"
   ]
  },
  {
   "cell_type": "code",
   "execution_count": 186,
   "metadata": {},
   "outputs": [
    {
     "data": {
      "text/html": [
       "<div>\n",
       "<style scoped>\n",
       "    .dataframe tbody tr th:only-of-type {\n",
       "        vertical-align: middle;\n",
       "    }\n",
       "\n",
       "    .dataframe tbody tr th {\n",
       "        vertical-align: top;\n",
       "    }\n",
       "\n",
       "    .dataframe thead th {\n",
       "        text-align: right;\n",
       "    }\n",
       "</style>\n",
       "<table border=\"1\" class=\"dataframe\">\n",
       "  <thead>\n",
       "    <tr style=\"text-align: right;\">\n",
       "      <th></th>\n",
       "      <th>date</th>\n",
       "      <th>stock</th>\n",
       "      <th>position</th>\n",
       "      <th>size</th>\n",
       "      <th>cost</th>\n",
       "      <th>trading price</th>\n",
       "    </tr>\n",
       "  </thead>\n",
       "  <tbody>\n",
       "    <tr>\n",
       "      <th>0</th>\n",
       "      <td>2023-01-16 09:15:00</td>\n",
       "      <td>TATAMOTORS_Close</td>\n",
       "      <td>long</td>\n",
       "      <td>44</td>\n",
       "      <td>[9994600.0]</td>\n",
       "      <td>413.00</td>\n",
       "    </tr>\n",
       "    <tr>\n",
       "      <th>1</th>\n",
       "      <td>2023-01-16 09:15:00</td>\n",
       "      <td>TECHM_Close</td>\n",
       "      <td>long</td>\n",
       "      <td>16</td>\n",
       "      <td>[9962880.0]</td>\n",
       "      <td>1037.80</td>\n",
       "    </tr>\n",
       "    <tr>\n",
       "      <th>2</th>\n",
       "      <td>2023-01-16 09:15:00</td>\n",
       "      <td>INDUSINDBK_Close</td>\n",
       "      <td>long</td>\n",
       "      <td>16</td>\n",
       "      <td>[9926800.0]</td>\n",
       "      <td>1240.85</td>\n",
       "    </tr>\n",
       "    <tr>\n",
       "      <th>3</th>\n",
       "      <td>2023-01-16 09:15:00</td>\n",
       "      <td>HINDALCO_Close</td>\n",
       "      <td>long</td>\n",
       "      <td>14</td>\n",
       "      <td>[9461900.0]</td>\n",
       "      <td>482.75</td>\n",
       "    </tr>\n",
       "    <tr>\n",
       "      <th>4</th>\n",
       "      <td>2023-01-16 09:15:00</td>\n",
       "      <td>TCS_Close</td>\n",
       "      <td>long</td>\n",
       "      <td>17</td>\n",
       "      <td>[9930550.0]</td>\n",
       "      <td>3338.00</td>\n",
       "    </tr>\n",
       "    <tr>\n",
       "      <th>...</th>\n",
       "      <td>...</td>\n",
       "      <td>...</td>\n",
       "      <td>...</td>\n",
       "      <td>...</td>\n",
       "      <td>...</td>\n",
       "      <td>...</td>\n",
       "    </tr>\n",
       "    <tr>\n",
       "      <th>1752</th>\n",
       "      <td>2024-07-02 09:15:00</td>\n",
       "      <td>EICHERMOT_Close</td>\n",
       "      <td>long</td>\n",
       "      <td>12</td>\n",
       "      <td>[9795344.999999998]</td>\n",
       "      <td>4664.45</td>\n",
       "    </tr>\n",
       "    <tr>\n",
       "      <th>1753</th>\n",
       "      <td>2024-07-02 09:15:00</td>\n",
       "      <td>HEROMOTOCO_Close</td>\n",
       "      <td>long</td>\n",
       "      <td>11</td>\n",
       "      <td>[9215167.5]</td>\n",
       "      <td>5584.95</td>\n",
       "    </tr>\n",
       "    <tr>\n",
       "      <th>1754</th>\n",
       "      <td>2024-07-02 09:15:00</td>\n",
       "      <td>SBIN_Close</td>\n",
       "      <td>long</td>\n",
       "      <td>16</td>\n",
       "      <td>[9983400.0]</td>\n",
       "      <td>831.95</td>\n",
       "    </tr>\n",
       "    <tr>\n",
       "      <th>1755</th>\n",
       "      <td>2024-07-02 09:15:00</td>\n",
       "      <td>KOTAKBANK_Close</td>\n",
       "      <td>short</td>\n",
       "      <td>14</td>\n",
       "      <td>[9943360.0]</td>\n",
       "      <td>1775.60</td>\n",
       "    </tr>\n",
       "    <tr>\n",
       "      <th>1756</th>\n",
       "      <td>2024-07-02 09:15:00</td>\n",
       "      <td>BAJFINANCE_Close</td>\n",
       "      <td>short</td>\n",
       "      <td>11</td>\n",
       "      <td>[9905500.0]</td>\n",
       "      <td>7204.00</td>\n",
       "    </tr>\n",
       "  </tbody>\n",
       "</table>\n",
       "<p>1757 rows × 6 columns</p>\n",
       "</div>"
      ],
      "text/plain": [
       "                    date             stock position  size  \\\n",
       "0    2023-01-16 09:15:00  TATAMOTORS_Close     long    44   \n",
       "1    2023-01-16 09:15:00       TECHM_Close     long    16   \n",
       "2    2023-01-16 09:15:00  INDUSINDBK_Close     long    16   \n",
       "3    2023-01-16 09:15:00    HINDALCO_Close     long    14   \n",
       "4    2023-01-16 09:15:00         TCS_Close     long    17   \n",
       "...                  ...               ...      ...   ...   \n",
       "1752 2024-07-02 09:15:00   EICHERMOT_Close     long    12   \n",
       "1753 2024-07-02 09:15:00  HEROMOTOCO_Close     long    11   \n",
       "1754 2024-07-02 09:15:00        SBIN_Close     long    16   \n",
       "1755 2024-07-02 09:15:00   KOTAKBANK_Close    short    14   \n",
       "1756 2024-07-02 09:15:00  BAJFINANCE_Close    short    11   \n",
       "\n",
       "                     cost  trading price  \n",
       "0             [9994600.0]         413.00  \n",
       "1             [9962880.0]        1037.80  \n",
       "2             [9926800.0]        1240.85  \n",
       "3             [9461900.0]         482.75  \n",
       "4             [9930550.0]        3338.00  \n",
       "...                   ...            ...  \n",
       "1752  [9795344.999999998]        4664.45  \n",
       "1753          [9215167.5]        5584.95  \n",
       "1754          [9983400.0]         831.95  \n",
       "1755          [9943360.0]        1775.60  \n",
       "1756          [9905500.0]        7204.00  \n",
       "\n",
       "[1757 rows x 6 columns]"
      ]
     },
     "execution_count": 186,
     "metadata": {},
     "output_type": "execute_result"
    }
   ],
   "source": [
    "trade_log"
   ]
  },
  {
   "cell_type": "markdown",
   "metadata": {},
   "source": [
    "##### Plot cumulative PnL"
   ]
  },
  {
   "cell_type": "code",
   "execution_count": 183,
   "metadata": {},
   "outputs": [],
   "source": [
    "def plot_pnl(pnl_series):\n",
    "    plt.figure(figsize=(10, 6))\n",
    "    pnl_series.plot()\n",
    "    plt.title('Cumulative PnL')\n",
    "    plt.xlabel('Date')\n",
    "    plt.ylabel('Cumulative PnL')\n",
    "    plt.grid(True)\n",
    "    plt.show()"
   ]
  },
  {
   "cell_type": "code",
   "execution_count": 184,
   "metadata": {},
   "outputs": [
    {
     "data": {
      "image/png": "[encoded data removed]",
      "text/plain": [
       "<Figure size 1000x600 with 1 Axes>"
      ]
     },
     "metadata": {},
     "output_type": "display_data"
    }
   ],
   "source": [
    "plot_pnl(pnl_series)"
   ]
  },
  {
   "cell_type": "markdown",
   "metadata": {},
   "source": [
    "##### Some analysis "
   ]
  },
  {
   "cell_type": "code",
   "execution_count": 180,
   "metadata": {},
   "outputs": [],
   "source": [
    "initial_cap = 200000000\n",
    "pct = 100\n",
    "daily_ret = pct* (pnl_series.diff() / initial_cap)\n",
    "annual_mean_returns = daily_ret.mean()*252\n",
    "annial_mean_std = daily_ret.std()*np.sqrt(252)\n",
    "s_r = annual_mean_returns/ annial_mean_std"
   ]
  },
  {
   "cell_type": "code",
   "execution_count": 181,
   "metadata": {},
   "outputs": [
    {
     "name": "stdout",
     "output_type": "stream",
     "text": [
      "Annual Mean Return: 40.33681378491621 Annual Risk: 7.131166937292593 Sharpe: 5.656411375531536\n"
     ]
    }
   ],
   "source": [
    "print('Annual Mean Return:', annual_mean_returns,\n",
    "       'Annual Risk:', annial_mean_std,\n",
    "        'Sharpe:', s_r)"
   ]
  },
  {
   "cell_type": "code",
   "execution_count": null,
   "metadata": {},
   "outputs": [],
   "source": []
  },
  {
   "cell_type": "code",
   "execution_count": null,
   "metadata": {},
   "outputs": [],
   "source": []
  }
 ],
 "metadata": {
  "kernelspec": {
   "display_name": "Python 3",
   "language": "python",
   "name": "python3"
  },
  "language_info": {
   "codemirror_mode": {
    "name": "ipython",
    "version": 3
   },
   "file_extension": ".py",
   "mimetype": "text/x-python",
   "name": "python",
   "nbconvert_exporter": "python",
   "pygments_lexer": "ipython3",
   "version": "3.12.4"
  }
 },
 "nbformat": 4,
 "nbformat_minor": 2
}
